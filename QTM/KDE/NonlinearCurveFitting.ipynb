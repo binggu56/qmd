{
 "cells": [
  {
   "cell_type": "code",
   "execution_count": 3,
   "metadata": {
    "collapsed": true
   },
   "outputs": [],
   "source": [
    "# python notebook for curve fitting using Pade approximants \n",
    "%matplotlib inline \n",
    "import numpy as np \n",
    "import matplotlib.pyplot as plt "
   ]
  },
  {
   "cell_type": "code",
   "execution_count": 101,
   "metadata": {
    "collapsed": false
   },
   "outputs": [
    {
     "name": "stdout",
     "output_type": "stream",
     "text": [
      "2048\n"
     ]
    },
    {
     "data": {
      "text/plain": [
       "<matplotlib.legend.Legend at 0x7f56cec45438>"
      ]
     },
     "execution_count": 101,
     "metadata": {},
     "output_type": "execute_result"
    },
    {
     "data": {
      "image/png": "[encoded data removed]",
      "text/plain": [
       "<matplotlib.figure.Figure at 0x7f56ceebfef0>"
      ]
     },
     "metadata": {},
     "output_type": "display_data"
    }
   ],
   "source": [
    "\n",
    "from scipy.optimize import curve_fit\n",
    "def f_target(x):\n",
    "    xl = -4. \n",
    "    xr = 4. \n",
    "    p = np.exp(-(x-xl)**2/2.) + np.exp(-(x-xr)**2/2.)\n",
    "    dp = -(x-xl) * np.exp(-(x-xl)**2/2.) - (x-xr) * np.exp(-(x-xr)**2/2.)\n",
    "\n",
    "    return p/dp   \n",
    "\n",
    "def rational(x, p, q):\n",
    "    \"\"\"\n",
    "    The general rational function description.\n",
    "    p is a list with the polynomial coefficients in the numerator\n",
    "    q is a list with the polynomial coefficients (except the first one)\n",
    "    in the denominator\n",
    "    The first coefficient of the denominator polynomial is fixed at 1.\n",
    "    \"\"\"\n",
    "    return np.polyval(p, x) / np.polyval([1] + q, x)\n",
    "\n",
    "def f_target1(x):\n",
    "    g = 0.1\n",
    "    p = np.exp(-x**2/2. - g * x**4)\n",
    "    dlogp = (-x - 4. * g * x**3)\n",
    "    return dlogp \n",
    "\n",
    "def poly(x,a0,a1,a2, a3,a4,a5,a6,a7,a8,a9,a10,a11,a12,a13,a14):\n",
    "    #return (a0 + a1 * x)\n",
    "    a = [a0,a1,a2, a3,a4,a5,a6,a7,a8,a9,a10,a11,a12,a13,a14]\n",
    "    return np.polyval(a, x)\n",
    "\n",
    "def cont_exp(x,a0,a1,a2,a3,c1,c2):\n",
    "    return c1 * np.exp(a0 * (x-a1)) + c2 * np.exp(a2 *(x-a3)) \n",
    "\n",
    "def pade(x,a0,a1,a2,a3,a4,a5, b1,b2,b3,b4):\n",
    "    return rational(x, [a0, a1, a2, a3,a4,a5], [b1,b2,b3,b4])\n",
    "\n",
    "\n",
    "xdata, rdata = np.genfromtxt('/home/bing/git/pyQMD/QTM_F/1D/double_well/r.out',unpack=True, usecols=(0,2))\n",
    "\n",
    "print(len(xdata))\n",
    "\n",
    "popt, pcov = curve_fit(pade, xdata, rdata)\n",
    "\n",
    "# Constrain the optimization to the region of 0 < a < 3, 0 < b < 2 and 0 < c < 1:\n",
    "x = np.linspace(-4,4)\n",
    "yfit = pade(x,*popt)\n",
    "\n",
    "\n",
    "plt.figure() \n",
    "plt.plot(x,yfit,'r-',lw=3,label='Fit')\n",
    "plt.plot(xdata,rdata,'o',label='data')\n",
    "\n",
    "plt.legend()\n"
   ]
  },
  {
   "cell_type": "code",
   "execution_count": 83,
   "metadata": {
    "collapsed": false
   },
   "outputs": [
    {
     "data": {
      "text/plain": [
       "<matplotlib.legend.Legend at 0x7f56d6323048>"
      ]
     },
     "execution_count": 83,
     "metadata": {},
     "output_type": "execute_result"
    },
    {
     "data": {
      "image/png": "[encoded data removed]",
      "text/plain": [
       "<matplotlib.figure.Figure at 0x7f56d68d7da0>"
      ]
     },
     "metadata": {},
     "output_type": "display_data"
    }
   ],
   "source": [
    "from scipy import misc\n",
    "e_exp = [1.0, 1.0, 0.0,0.0]\n",
    "p, q = misc.pade(e_exp, 2)\n",
    "\n",
    "e_exp.reverse()\n",
    "e_poly = np.poly1d(e_exp)\n",
    "\n",
    "# Compare e_poly(x) and the pade approximation p(x)/q(x)\n",
    "x = np.linspace(-4,4)\n",
    "y = e_poly(x)\n",
    "\n",
    "\n",
    "yfit = p(x)/q(x) \n",
    "plt.figure(figsize=(9,9))\n",
    "plt.plot(x,y)\n",
    "plt.plot(x,yfit,'--')\n",
    "plt.plot(x,p(x),'b-',label='p(x)')\n",
    "\n",
    "plt.xlabel('$\\mathbf{E}_{\\mathrm{tot}}$')\n",
    "\n",
    "\n",
    "\n",
    "plt.legend()\n",
    "\n",
    "\n"
   ]
  },
  {
   "cell_type": "code",
   "execution_count": 95,
   "metadata": {
    "collapsed": false
   },
   "outputs": [
    {
     "ename": "AttributeError",
     "evalue": "module 'numpy' has no attribute 'sec'",
     "output_type": "error",
     "traceback": [
      "\u001b[1;31m---------------------------------------------------------------------------\u001b[0m",
      "\u001b[1;31mAttributeError\u001b[0m                            Traceback (most recent call last)",
      "\u001b[1;32m<ipython-input-95-35d45d9d70a8>\u001b[0m in \u001b[0;36m<module>\u001b[1;34m()\u001b[0m\n\u001b[0;32m      3\u001b[0m \u001b[0mdx\u001b[0m \u001b[1;33m=\u001b[0m \u001b[0mx\u001b[0m\u001b[1;33m[\u001b[0m\u001b[1;36m1\u001b[0m\u001b[1;33m]\u001b[0m \u001b[1;33m-\u001b[0m \u001b[0mx\u001b[0m\u001b[1;33m[\u001b[0m\u001b[1;36m0\u001b[0m\u001b[1;33m]\u001b[0m\u001b[1;33m\u001b[0m\u001b[0m\n\u001b[0;32m      4\u001b[0m \u001b[0mw\u001b[0m \u001b[1;33m=\u001b[0m \u001b[1;36m4.0\u001b[0m \u001b[1;33m*\u001b[0m \u001b[1;33m(\u001b[0m\u001b[1;36m2.\u001b[0m \u001b[1;33m*\u001b[0m \u001b[0ma\u001b[0m \u001b[1;33m)\u001b[0m\u001b[1;33m**\u001b[0m \u001b[1;36m1.5\u001b[0m \u001b[1;33m/\u001b[0m \u001b[0mnp\u001b[0m\u001b[1;33m.\u001b[0m\u001b[0mpi\u001b[0m\u001b[1;33m**\u001b[0m\u001b[1;36m0.5\u001b[0m \u001b[1;33m*\u001b[0m \u001b[0mnp\u001b[0m\u001b[1;33m.\u001b[0m\u001b[0mexp\u001b[0m\u001b[1;33m(\u001b[0m\u001b[1;33m-\u001b[0m \u001b[1;36m2.\u001b[0m \u001b[1;33m*\u001b[0m \u001b[0ma\u001b[0m \u001b[1;33m*\u001b[0m \u001b[0mx\u001b[0m\u001b[1;33m**\u001b[0m\u001b[1;36m2\u001b[0m\u001b[1;33m)\u001b[0m \u001b[1;33m*\u001b[0m \u001b[0mx\u001b[0m\u001b[1;33m**\u001b[0m\u001b[1;36m2\u001b[0m \u001b[1;33m*\u001b[0m \u001b[0mdx\u001b[0m\u001b[1;33m\u001b[0m\u001b[0m\n\u001b[1;32m----> 5\u001b[1;33m \u001b[0mplt\u001b[0m\u001b[1;33m.\u001b[0m\u001b[0mplot\u001b[0m\u001b[1;33m(\u001b[0m\u001b[0mx\u001b[0m\u001b[1;33m,\u001b[0m\u001b[0mnp\u001b[0m\u001b[1;33m.\u001b[0m\u001b[0msec\u001b[0m\u001b[1;33m(\u001b[0m\u001b[0mx\u001b[0m\u001b[1;33m)\u001b[0m\u001b[1;33m)\u001b[0m\u001b[1;33m\u001b[0m\u001b[0m\n\u001b[0m",
      "\u001b[1;31mAttributeError\u001b[0m: module 'numpy' has no attribute 'sec'"
     ]
    }
   ],
   "source": [
    "x = np.linspace(-8,8,1000)\n",
    "a = 0.28\n",
    "dx = x[1] - x[0]\n",
    "w = 4.0 * (2. * a )** 1.5 / np.pi**0.5 * np.exp(- 2. * a * x**2) * x**2 * dx\n"
   ]
  },
  {
   "cell_type": "code",
   "execution_count": null,
   "metadata": {
    "collapsed": false
   },
   "outputs": [],
   "source": [
    "\n"
   ]
  },
  {
   "cell_type": "code",
   "execution_count": null,
   "metadata": {
    "collapsed": true
   },
   "outputs": [],
   "source": []
  }
 ],
 "metadata": {
  "kernelspec": {
   "display_name": "Python 3",
   "language": "python",
   "name": "python3"
  },
  "language_info": {
   "codemirror_mode": {
    "name": "ipython",
    "version": 3
   },
   "file_extension": ".py",
   "mimetype": "text/x-python",
   "name": "python",
   "nbconvert_exporter": "python",
   "pygments_lexer": "ipython3",
   "version": "3.5.1"
  }
 },
 "nbformat": 4,
 "nbformat_minor": 0
}
